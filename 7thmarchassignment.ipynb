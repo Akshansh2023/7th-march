{
 "cells": [
  {
   "cell_type": "markdown",
   "id": "5713fa05-13ee-4cc8-8ab3-65b36fd41b92",
   "metadata": {},
   "source": [
    "Q1. What are the three measures of central tendency?"
   ]
  },
  {
   "cell_type": "markdown",
   "id": "3a44f38f-e504-4c38-86ed-3a0b4d6ff48b",
   "metadata": {},
   "source": [
    "# Answer \n",
    "The three measures of central tendency are:\n",
    "\n",
    "Mean: The mean is calculated by summing up all the values in a dataset and then dividing by the total number of values. It represents the average value of a dataset.\n",
    "\n",
    "Median: The median is the middle value in a dataset when the values are arranged in ascending or descending order. It represents the value that separates the upper and lower halves of the dataset.\n",
    "\n",
    "Mode: The mode is the value that occurs most frequently in a dataset. It represents the value that is most common in the dataset."
   ]
  },
  {
   "cell_type": "markdown",
   "id": "fa9997e1-af21-4a70-8aa8-4e9c6fde3bf7",
   "metadata": {},
   "source": [
    "Q2. What is the difference between the mean, median, and mode? How are they used to measure the\n",
    "central tendency of a dataset?"
   ]
  },
  {
   "cell_type": "markdown",
   "id": "6050a424-80c6-409d-9582-d30852922f51",
   "metadata": {},
   "source": [
    "# Answer \n",
    "The mean, median, and mode are different measures of central tendency used in statistics.\n",
    "\n",
    "The mean is the sum of all the values in a dataset divided by the total number of values. It represents the average value of the dataset. The mean is sensitive to outliers, which can significantly affect its value.\n",
    "\n",
    "The median is the middle value in a dataset when the values are arranged in ascending or descending order. It represents the value that separates the upper and lower halves of the dataset. The median is less affected by outliers, making it a more robust measure of central tendency than the mean.\n",
    "\n",
    "The mode is the value that occurs most frequently in a dataset. It represents the value that is most common in the dataset. The mode can be useful for identifying the most popular choice or category in a dataset.\n",
    "\n",
    "In summary, the mean gives an idea about the average value, the median gives an idea about the typical value, and the mode gives an idea about the most common value in a dataset."
   ]
  },
  {
   "cell_type": "markdown",
   "id": "af653fb9-07ff-45de-be67-72cf66333bd1",
   "metadata": {},
   "source": [
    "Q3. Measure the three measures of central tendency for the given height data:\n",
    "    [178,177,176,177,178.2,178,175,179,180,175,178.9,176.2,177,172.5,178,176.5]"
   ]
  },
  {
   "cell_type": "markdown",
   "id": "735119d5-a93f-4d62-9b97-afa57076b164",
   "metadata": {},
   "source": [
    "# Answer \n",
    "Mean = (178 + 177 + 176 + 177 + 178.2 + 178 + 175 + 179 + 180 + 175 + 178.9 + 176.2 + 177 + 172.5 + 178 + 176.5) / 16\n",
    "     = 177.4\n",
    "Median:\n",
    "To find the median, we need to first arrange the heights in ascending order:\n",
    "172.5, 175, 175, 176, 176.2, 176.5, 177, 177, 178, 178, 178, 178.2, 178.9, 179, 180\n",
    "Since there are an even number of heights in the data set, the median is the average of the two middle values:\n",
    "Median = (177 + 178) / 2\n",
    "       = 177.5\n",
    "Mode:\n",
    "To find the mode, we need to determine the height that occurs most frequently in the data set:\n",
    "Mode = 178\n"
   ]
  },
  {
   "cell_type": "markdown",
   "id": "a5afe235-cc84-43d5-a201-ec3db72b6e83",
   "metadata": {},
   "source": [
    "Q4. Find the standard deviation for the given data:\n",
    "[178,177,176,177,178.2,178,175,179,180,175,178.9,176.2,177,172.5,178,176.5]"
   ]
  },
  {
   "cell_type": "code",
   "execution_count": 6,
   "id": "e00fac2e-23b4-4d55-a922-c8f9bf543c7e",
   "metadata": {},
   "outputs": [
    {
     "name": "stdout",
     "output_type": "stream",
     "text": [
      "Standard Deviation: 1.8472389305844188\n"
     ]
    }
   ],
   "source": [
    "# Answer \n",
    "import statistics\n",
    "\n",
    "data = [178, 177, 176, 177, 178.2, 178, 175, 179, 180, 175, 178.9, 176.2, 177, 172.5, 178, 176.5]\n",
    "\n",
    "std_dev = statistics.stdev(data)\n",
    "\n",
    "print(\"Standard Deviation:\", std_dev)\n"
   ]
  },
  {
   "cell_type": "markdown",
   "id": "b6bae7b9-0af0-4916-b58f-92a7a4f6e388",
   "metadata": {},
   "source": [
    "Q5. How are measures of dispersion such as range, variance, and standard deviation used to describe\n",
    "the spread of a dataset? Provide an example."
   ]
  },
  {
   "cell_type": "code",
   "execution_count": null,
   "id": "c9f33b8a-b161-4e59-8866-0c934d6f6237",
   "metadata": {},
   "outputs": [],
   "source": [
    "# Answer \n",
    "Measures of dispersion such as range, variance, and standard deviation are used to describe the spread or distribution of data points in a dataset.\n",
    "Range: Range gives an idea about how spread out the data is. It is the difference between the maximum and minimum value in the dataset. \n",
    "A larger range indicates that the data is more spread out, while a smaller range indicates that the data is less spread out.\n",
    "However, the range doesn't take into account the distribution of the data between the minimum and maximum values.\n",
    "Variance: Variance measures how much the data varies or deviates from the mean. It is calculated as the average of the squared differences between each data point and the mean\n",
    ". A higher variance indicates that the data points are more spread out from the mean, while a lower variance indicates that the data points are closer to the mean.\n",
    "Standard deviation: Standard deviation is the square root of the variance. It provides a measure of the average distance of the data points from the mean.\n",
    "A larger standard deviation indicates that the data points are more spread out from the mean, while a smaller standard deviation indicates that the data points are closer to the mean.import statistics\n",
    "data = [10, 12, 13, 14, 16, 18, 20]\n",
    "range = max(data) - min(data)\n",
    "variance = statistics.variance(data)\n",
    "std_dev = statistics.stdev(data)\n",
    "print(\"Range:\", range)\n",
    "print(\"Variance:\", variance)\n",
    "print(\"Standard Deviation:\", std_dev)\n"
   ]
  },
  {
   "cell_type": "markdown",
   "id": "f5c93e65-fec0-4b46-94a4-001cd939f3b3",
   "metadata": {},
   "source": [
    "Q6. What is a Venn diagram?\n",
    "# Answer \n",
    "A Venn diagram is a visual representation of the relationships between different sets of items. It consists of overlapping circles or other shapes, with each circle representing a set of items and the overlap representing the items that are common to the sets.\n",
    "\n",
    "Venn diagrams are used in a variety of fields, including mathematics, logic, statistics, and computer science. They are often used to illustrate logical relationships between sets, to visualize the results of surveys or experiments, or to help solve problems involving multiple variables."
   ]
  },
  {
   "cell_type": "markdown",
   "id": "eb9d4698-3457-4202-be0e-8afffca5783e",
   "metadata": {},
   "source": [
    "Q7. For the two given sets A = (2,3,4,5,6,7) & B = (0,2,6,8,10). Find:\n",
    "(i) A ⋂ B\n",
    "(ii) A ⋃ B\n",
    "# ANSWER\n",
    "(i) A ⋂ B = {2, 6}\n",
    "(ii)A ⋃ B = {0, 2, 3, 4, 5, 6, 7, 8, 10}\n"
   ]
  },
  {
   "cell_type": "markdown",
   "id": "3ebcd637-11a9-49c4-9b2f-3ed855524a75",
   "metadata": {},
   "source": [
    "Q8. What do you understand about skewness in data?"
   ]
  },
  {
   "cell_type": "markdown",
   "id": "9b645099-c790-4ea7-98d2-ed25989ef540",
   "metadata": {},
   "source": [
    "Skewness in data refers to the extent to which a dataset is asymmetric or skewed in its distribution. In other words, it describes the degree to which the data deviates from a symmetrical bell-shaped distribution.\n",
    "A dataset can be either positively skewed or negatively skewed. If the majority of the data is concentrated on the left side and the tail extends to the right, it is positively skewed. On the other hand, if the majority of the data is concentrated on the right side and the tail extends to the left, it is negatively skewed.\n",
    "Skewness is important because it can have an impact on statistical analysis. For example, if the data is skewed, the mean may not be an accurate representation of the central tendency of the data, and it may be more appropriate to use the median.\n",
    "Additionally, skewed data can affect the accuracy of some statistical tests, such as the t-test, which assume a normal distribution. \n",
    "Therefore, it is important to identify skewness in data and take appropriate measures to account for it in analysis."
   ]
  },
  {
   "cell_type": "markdown",
   "id": "e8e9df32-897c-4d67-82a6-be8655c9e3f2",
   "metadata": {},
   "source": [
    "Q9. If a data is right skewed then what will be the position of median with respect to mean?\n",
    "# Answer\n",
    "If a dataset is right-skewed, with a majority of the data concentrated on the left side and the tail extending to the right, then the median will be less than the mean.\n",
    "This is because the mean is influenced by the extreme values on the right side, which pull the mean in that direction. In contrast, the median is not affected by the extreme values, and instead reflects the central value of the dataset. \n",
    "Therefore, in a right-skewed distribution, the median will be located to the left of the mean."
   ]
  },
  {
   "cell_type": "markdown",
   "id": "d09934b0-f227-4d85-bf73-85c40555db05",
   "metadata": {},
   "source": [
    "Q10. Explain the difference between covariance and correlation. How are these measures used in\n",
    "statistical analysis?\n",
    "# answer\n",
    "Covariance and correlation are both measures of the relationship between two variables, but they differ in their interpretation and scale.\n",
    "Covariance measures the extent to which two variables vary together. It is a measure of the joint variability of two random variables. Specifically, covariance is calculated as the average of the product of the deviations of each variable from its mean. Covariance can take on any value, positive or negative, and the magnitude of the value indicates the strength of the relationship. However, the value of covariance is not standardized and is therefore difficult to interpret.\n",
    "Correlation, on the other hand, measures the strength and direction of the linear relationship between two variables. It is a standardized measure that ranges between -1 and 1. A correlation of 1 indicates a perfect positive relationship, a correlation of -1 indicates a perfect negative relationship, and a correlation of 0 indicates no relationship. Correlation is calculated as the covariance between two variables divided by the product of their standard deviations.\n",
    "Both covariance and correlation are used in statistical analysis to understand the relationship between two variables. However, correlation is a more widely used measure because it is standardized, making it easier to interpret and compare across different datasets. Covariance is often used in conjunction with correlation to provide additional information about the joint variability of two variables."
   ]
  },
  {
   "cell_type": "markdown",
   "id": "b45a3f25-2fca-4fcc-862b-96b510e164d3",
   "metadata": {},
   "source": [
    "Q11. What is the formula for calculating the sample mean? Provide an example calculation for a\n",
    "dataset.\n"
   ]
  },
  {
   "cell_type": "markdown",
   "id": "fde03ec6-27e9-46e2-b4e9-b54290d5e16d",
   "metadata": {},
   "source": [
    "# answer \n",
    "The formula for calculating the sample mean is:\n",
    "\n",
    "sample mean = (sum of all values in the sample) / (number of values in the sample)\n",
    "\n",
    "For example, suppose we have a dataset consisting of the following five values:\n",
    "\n",
    "4, 7, 8, 2, 5\n",
    "\n",
    "To calculate the sample mean, we add up all the values and divide by the total number of values:\n",
    "\n",
    "sample mean = (4 + 7 + 8 + 2 + 5) / 5\n",
    "= 26 / 5\n",
    "= 5.2\n",
    "\n",
    "Therefore, the sample mean for this dataset is 5.2."
   ]
  },
  {
   "cell_type": "markdown",
   "id": "529a6d5e-ce72-45e0-a905-0d44b5b2d96f",
   "metadata": {},
   "source": [
    "Q12. For a normal distribution data what is the relationship between its measure of central tendency?\n",
    "#Answer\n",
    "For a normal distribution, the mean, median, and mode are equal and located at the center of the distribution.\n",
    "This means that the distribution is symmetric, with values equally likely to occur on either side of the central value. \n",
    "Additionally, the standard deviation can be used to measure the spread of the data, and the empirical rule states that approximately 68% of the data falls within one standard deviation of the mean, 95% within two standard deviations, and 99.7% within three standard deviations.\n",
    "Therefore, a normal distribution has a well-defined center and a predictable spread, making it a useful model for many natural phenomena."
   ]
  },
  {
   "cell_type": "markdown",
   "id": "a149de2e-5260-407f-91ae-3580fab8d658",
   "metadata": {},
   "source": [
    "Q13. How is covariance different from correlation?\n",
    "# Answer \n",
    "Covariance and correlation are both measures of the relationship between two variables, but they differ in several important ways:\n",
    "Scale: Covariance measures the direction and strength of the relationship between two variables, but its value depends on the units of the variables. In contrast, correlation standardizes the relationship by dividing the covariance by the product of the standard deviations of the variables, which results in a value between -1 and 1, regardless of the units.\n",
    "Interpretation: Covariance can be positive or negative, indicating a positive or negative relationship between the variables, but the magnitude of the covariance is not easily interpretable. In contrast, correlation can also be positive or negative, but its value indicates the strength and direction of the linear relationship between the variables, with 1 indicating a perfect positive correlation, -1 indicating a perfect negative correlation, and 0 indicating no correlation.\n",
    "Robustness: Correlation is more robust than covariance to outliers and non-linear relationships. Outliers can have a large impact on the covariance because they increase the product of the deviations from the mean, but their effect on the correlation is dampened by the standardization process."
   ]
  },
  {
   "cell_type": "markdown",
   "id": "f7143c01-0f07-46ed-b7d0-dbe3c0a0c9e5",
   "metadata": {},
   "source": [
    "Q14. How do outliers affect measures of central tendency and dispersion? Provide an example.\n",
    "# Answer\n",
    "Outliers can have a significant impact on measures of central tendency and dispersion.\n",
    "For measures of central tendency such as the mean, outliers can pull the value in their direction, especially if there are only a few data points. For example, consider the following dataset of the ages of a group of people: 30, 35, 40, 42, 45, 50, 55, 60, 65, 70, 80. The mean age is 51.8 years. However, if there is an outlier of 100 years, the mean age jumps to 59.1 years, which is significantly different and not representative of the group as a whole.\n",
    "For measures of dispersion such as the range, interquartile range, variance, and standard deviation, outliers can increase the spread of the data and make it appear more variable than it actually is. For example, consider the following dataset of the weights of a group of people in kilograms: 50, 60, 70, 80, 90, 100, 110. The range is 60 kg, and the standard deviation is 25.5 kg. However, if there is an outlier of 200 kg, the range becomes 150 kg, and the standard deviation jumps to 63.3 kg, which again is not representative of the group as a whole."
   ]
  },
  {
   "cell_type": "code",
   "execution_count": null,
   "id": "e88b2b2a-ceb5-4b4c-af7d-e43cace07dca",
   "metadata": {},
   "outputs": [],
   "source": []
  },
  {
   "cell_type": "code",
   "execution_count": null,
   "id": "80e71a00-05c8-4e21-b3a6-2d6620271132",
   "metadata": {},
   "outputs": [],
   "source": []
  },
  {
   "cell_type": "code",
   "execution_count": null,
   "id": "2c46a32e-581c-457c-be7e-63dbbd7cf302",
   "metadata": {},
   "outputs": [],
   "source": []
  },
  {
   "cell_type": "code",
   "execution_count": null,
   "id": "feddd094-f620-4e06-82b4-a993bb1fd287",
   "metadata": {},
   "outputs": [],
   "source": []
  }
 ],
 "metadata": {
  "kernelspec": {
   "display_name": "Python 3 (ipykernel)",
   "language": "python",
   "name": "python3"
  },
  "language_info": {
   "codemirror_mode": {
    "name": "ipython",
    "version": 3
   },
   "file_extension": ".py",
   "mimetype": "text/x-python",
   "name": "python",
   "nbconvert_exporter": "python",
   "pygments_lexer": "ipython3",
   "version": "3.10.8"
  }
 },
 "nbformat": 4,
 "nbformat_minor": 5
}
